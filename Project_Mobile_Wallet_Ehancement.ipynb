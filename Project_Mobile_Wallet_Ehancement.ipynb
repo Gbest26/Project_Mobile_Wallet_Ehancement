{
 "cells": [
  {
   "cell_type": "markdown",
   "id": "903060e0",
   "metadata": {},
   "source": [
    "# mobile Wallet Ehancement:- (QuickTeller)\n",
    "\n",
    "In this project we`(data science team)` are been paired with the `full stack team` to carry out a task, we are been asked to assist the `full stack team` to build a model that could help them easily understand what the `user` requirement from the app."
   ]
  },
  {
   "cell_type": "markdown",
   "id": "3dd66b88",
   "metadata": {},
   "source": [
    "### Importing libraries"
   ]
  },
  {
   "cell_type": "code",
   "execution_count": 1,
   "id": "1dcfa200",
   "metadata": {},
   "outputs": [],
   "source": [
    "import warnings\n",
    "import pandas as pd\n",
    "import matplotlib.pyplot as plt\n",
    "import seaborn as sns\n",
    "\n",
    "from category_encoders import OneHotEncoder\n",
    "from sklearn.linear_model import LinearRegression, Ridge\n",
    "from sklearn.metrics import mean_absolute_error, mean_squared_error\n",
    "from sklearn.impute import  SimpleImputer\n",
    "from sklearn.pipeline import make_pipeline\n",
    "\n",
    "warnings.filterwarnings('ignore')"
   ]
  },
  {
   "cell_type": "markdown",
   "id": "1fb12bfb",
   "metadata": {},
   "source": [
    "### Exploratory Data Analysis:\n",
    "\n",
    "Before build our model we will like to have an indepth look of the data we are working on."
   ]
  },
  {
   "cell_type": "code",
   "execution_count": 2,
   "id": "12be2afd",
   "metadata": {},
   "outputs": [
    {
     "name": "stdout",
     "output_type": "stream",
     "text": [
      "<class 'pandas.core.frame.DataFrame'>\n",
      "RangeIndex: 18499 entries, 0 to 18498\n",
      "Data columns (total 6 columns):\n",
      " #   Column              Non-Null Count  Dtype \n",
      "---  ------              --------------  ----- \n",
      " 0   user_id             18499 non-null  int64 \n",
      " 1   Feedback_Date       18499 non-null  object\n",
      " 2   Feed_Type           18499 non-null  object\n",
      " 3   Feed_Content        18496 non-null  object\n",
      " 4   Appication_Version  18499 non-null  object\n",
      " 5   User_Rating         18499 non-null  int64 \n",
      "dtypes: int64(2), object(4)\n",
      "memory usage: 867.3+ KB\n",
      "info: None\n"
     ]
    },
    {
     "data": {
      "text/html": [
       "<div>\n",
       "<style scoped>\n",
       "    .dataframe tbody tr th:only-of-type {\n",
       "        vertical-align: middle;\n",
       "    }\n",
       "\n",
       "    .dataframe tbody tr th {\n",
       "        vertical-align: top;\n",
       "    }\n",
       "\n",
       "    .dataframe thead th {\n",
       "        text-align: right;\n",
       "    }\n",
       "</style>\n",
       "<table border=\"1\" class=\"dataframe\">\n",
       "  <thead>\n",
       "    <tr style=\"text-align: right;\">\n",
       "      <th></th>\n",
       "      <th>user_id</th>\n",
       "      <th>Feedback_Date</th>\n",
       "      <th>Feed_Type</th>\n",
       "      <th>Feed_Content</th>\n",
       "      <th>Appication_Version</th>\n",
       "      <th>User_Rating</th>\n",
       "    </tr>\n",
       "  </thead>\n",
       "  <tbody>\n",
       "    <tr>\n",
       "      <th>0</th>\n",
       "      <td>2701470357</td>\n",
       "      <td>12/10/2021 12:36</td>\n",
       "      <td>Usability</td>\n",
       "      <td>Things were great earlier but since the last u...</td>\n",
       "      <td>1.0.0</td>\n",
       "      <td>3</td>\n",
       "    </tr>\n",
       "    <tr>\n",
       "      <th>1</th>\n",
       "      <td>2701470357</td>\n",
       "      <td>12/10/2021 12:36</td>\n",
       "      <td>Bug report</td>\n",
       "      <td>Love this app but I wish we could still do adv...</td>\n",
       "      <td>1.0.0</td>\n",
       "      <td>5</td>\n",
       "    </tr>\n",
       "    <tr>\n",
       "      <th>2</th>\n",
       "      <td>2701470357</td>\n",
       "      <td>12/10/2021 12:37</td>\n",
       "      <td>Bug report</td>\n",
       "      <td>Woke garbage</td>\n",
       "      <td>1.0.0</td>\n",
       "      <td>1</td>\n",
       "    </tr>\n",
       "    <tr>\n",
       "      <th>3</th>\n",
       "      <td>2701470357</td>\n",
       "      <td>12/10/2021 12:37</td>\n",
       "      <td>Usability</td>\n",
       "      <td>Gives you a few likes mabey 10 then expects yo...</td>\n",
       "      <td>1.0.0</td>\n",
       "      <td>1</td>\n",
       "    </tr>\n",
       "    <tr>\n",
       "      <th>4</th>\n",
       "      <td>2701470357</td>\n",
       "      <td>12/10/2021 12:39</td>\n",
       "      <td>Usability</td>\n",
       "      <td>It's good..</td>\n",
       "      <td>1.0.0</td>\n",
       "      <td>3</td>\n",
       "    </tr>\n",
       "  </tbody>\n",
       "</table>\n",
       "</div>"
      ],
      "text/plain": [
       "      user_id     Feedback_Date   Feed_Type  \\\n",
       "0  2701470357  12/10/2021 12:36   Usability   \n",
       "1  2701470357  12/10/2021 12:36  Bug report   \n",
       "2  2701470357  12/10/2021 12:37  Bug report   \n",
       "3  2701470357  12/10/2021 12:37   Usability   \n",
       "4  2701470357  12/10/2021 12:39   Usability   \n",
       "\n",
       "                                        Feed_Content Appication_Version  \\\n",
       "0  Things were great earlier but since the last u...              1.0.0   \n",
       "1  Love this app but I wish we could still do adv...              1.0.0   \n",
       "2                                       Woke garbage              1.0.0   \n",
       "3  Gives you a few likes mabey 10 then expects yo...              1.0.0   \n",
       "4                                        It's good..              1.0.0   \n",
       "\n",
       "   User_Rating  \n",
       "0            3  \n",
       "1            5  \n",
       "2            1  \n",
       "3            1  \n",
       "4            3  "
      ]
     },
     "execution_count": 2,
     "metadata": {},
     "output_type": "execute_result"
    }
   ],
   "source": [
    "df = pd.read_csv(r\"C:\\Users\\gbest\\Desktop\\Mobile_Wallet_Data.csv\")\n",
    "print(\"info:\", df.info())\n",
    "df.head()"
   ]
  },
  {
   "cell_type": "markdown",
   "id": "2da5f367",
   "metadata": {},
   "source": [
    "Read the above data into a tabular form using `pandas`."
   ]
  },
  {
   "cell_type": "code",
   "execution_count": 3,
   "id": "2019621c",
   "metadata": {},
   "outputs": [
    {
     "data": {
      "text/plain": [
       "1    47.32\n",
       "5    25.80\n",
       "4    10.12\n",
       "2     9.01\n",
       "3     7.76\n",
       "Name: User_Rating, dtype: float64"
      ]
     },
     "execution_count": 3,
     "metadata": {},
     "output_type": "execute_result"
    }
   ],
   "source": [
    "rating = (df['User_Rating'].value_counts(normalize=True) * 100).round(2)\n",
    "rating"
   ]
  },
  {
   "cell_type": "code",
   "execution_count": 4,
   "id": "c0c2fcf3",
   "metadata": {},
   "outputs": [
    {
     "data": {
      "image/png": "[encoded data removed]",
      "text/plain": [
       "<Figure size 640x480 with 1 Axes>"
      ]
     },
     "metadata": {},
     "output_type": "display_data"
    }
   ],
   "source": [
    "rating.plot(kind='bar')\n",
    "plt.xlabel('User Rating[%]')\n",
    "plt.ylabel('Frequency')\n",
    "plt.title('QuickTeller User Ratings');"
   ]
  },
  {
   "cell_type": "markdown",
   "id": "9e6d3caa",
   "metadata": {},
   "source": [
    "From the `user rating` detail above we noticed that:\n",
    " * The lowest(1) rating has more rating than than the rating 2-5, with over 47% total rating count.\n",
    " * and that rating 5 which is the highest rating has the secnd hightest rating 25.80% rating count.\n",
    " * from rating 2-4 all have rating count of 10% downwards."
   ]
  },
  {
   "cell_type": "code",
   "execution_count": 5,
   "id": "10d2b509",
   "metadata": {},
   "outputs": [],
   "source": [
    "highest_download = df['Appication_Version'].value_counts()"
   ]
  },
  {
   "cell_type": "code",
   "execution_count": 6,
   "id": "3869b0e0",
   "metadata": {
    "scrolled": true
   },
   "outputs": [
    {
     "data": {
      "text/plain": [
       "1.11.0     6421\n",
       "1.1.0      2258\n",
       "1.0.0      1282\n",
       "1.11.1     1020\n",
       "1.10.1      926\n",
       "1.12.0      920\n",
       "1.10.7      712\n",
       "1.10.2      668\n",
       "1.12.1      660\n",
       "1.124.1     517\n",
       "Name: Appication_Version, dtype: int64"
      ]
     },
     "execution_count": 6,
     "metadata": {},
     "output_type": "execute_result"
    }
   ],
   "source": [
    "highest_download.head(10)"
   ]
  },
  {
   "cell_type": "markdown",
   "id": "103287fd",
   "metadata": {},
   "source": [
    "Here we saw the top `10` application version with most downloads"
   ]
  },
  {
   "cell_type": "code",
   "execution_count": 7,
   "id": "ed619c45",
   "metadata": {},
   "outputs": [
    {
     "data": {
      "text/plain": [
       "Usability          40.13\n",
       "Performance        28.42\n",
       "Feature request    15.82\n",
       "Bug report         15.63\n",
       "Name: Feed_Type, dtype: float64"
      ]
     },
     "execution_count": 7,
     "metadata": {},
     "output_type": "execute_result"
    }
   ],
   "source": [
    "feed_type = (df['Feed_Type'].value_counts(normalize=True) * 100).round(2)\n",
    "feed_type"
   ]
  },
  {
   "cell_type": "code",
   "execution_count": 8,
   "id": "8bc58f15",
   "metadata": {},
   "outputs": [
    {
     "data": {
      "image/png": "[encoded data removed]",
      "text/plain": [
       "<Figure size 640x480 with 1 Axes>"
      ]
     },
     "metadata": {},
     "output_type": "display_data"
    }
   ],
   "source": [
    "feed_type.plot(kind='bar')\n",
    "plt.xlabel('User feed back')\n",
    "plt.ylabel('Frequency')\n",
    "plt.title('QuickTeller feed type');"
   ]
  },
  {
   "cell_type": "markdown",
   "id": "3905e800",
   "metadata": {},
   "source": [
    "The Feedback Type column indicate the type or category of feedback the users has provide regarding the app.\n",
    "\n",
    " * usability has the highest number of total count with over 40% followed by.\n",
    " * performance has over 28% \n",
    " * bug report and feature request 15% each.\n",
    " \n",
    "  **NEXT:-** we are going to go through the user rating on each of the feedback type to see how they affect the useage of the app and get their individual ratings."
   ]
  },
  {
   "cell_type": "code",
   "execution_count": 9,
   "id": "1ea05ed8",
   "metadata": {},
   "outputs": [
    {
     "name": "stdout",
     "output_type": "stream",
     "text": [
      "shape: (7424, 6)\n"
     ]
    },
    {
     "data": {
      "text/html": [
       "<div>\n",
       "<style scoped>\n",
       "    .dataframe tbody tr th:only-of-type {\n",
       "        vertical-align: middle;\n",
       "    }\n",
       "\n",
       "    .dataframe tbody tr th {\n",
       "        vertical-align: top;\n",
       "    }\n",
       "\n",
       "    .dataframe thead th {\n",
       "        text-align: right;\n",
       "    }\n",
       "</style>\n",
       "<table border=\"1\" class=\"dataframe\">\n",
       "  <thead>\n",
       "    <tr style=\"text-align: right;\">\n",
       "      <th></th>\n",
       "      <th>user_id</th>\n",
       "      <th>Feedback_Date</th>\n",
       "      <th>Feed_Type</th>\n",
       "      <th>Feed_Content</th>\n",
       "      <th>Appication_Version</th>\n",
       "      <th>User_Rating</th>\n",
       "    </tr>\n",
       "  </thead>\n",
       "  <tbody>\n",
       "    <tr>\n",
       "      <th>0</th>\n",
       "      <td>2701470357</td>\n",
       "      <td>12/10/2021 12:36</td>\n",
       "      <td>Usability</td>\n",
       "      <td>Things were great earlier but since the last u...</td>\n",
       "      <td>1.0.0</td>\n",
       "      <td>3</td>\n",
       "    </tr>\n",
       "    <tr>\n",
       "      <th>3</th>\n",
       "      <td>2701470357</td>\n",
       "      <td>12/10/2021 12:37</td>\n",
       "      <td>Usability</td>\n",
       "      <td>Gives you a few likes mabey 10 then expects yo...</td>\n",
       "      <td>1.0.0</td>\n",
       "      <td>1</td>\n",
       "    </tr>\n",
       "    <tr>\n",
       "      <th>4</th>\n",
       "      <td>2701470357</td>\n",
       "      <td>12/10/2021 12:39</td>\n",
       "      <td>Usability</td>\n",
       "      <td>It's good..</td>\n",
       "      <td>1.0.0</td>\n",
       "      <td>3</td>\n",
       "    </tr>\n",
       "    <tr>\n",
       "      <th>9</th>\n",
       "      <td>2701470357</td>\n",
       "      <td>12/10/2021 12:41</td>\n",
       "      <td>Usability</td>\n",
       "      <td>An ego based app full of fake profiles. The pe...</td>\n",
       "      <td>1.0.0</td>\n",
       "      <td>1</td>\n",
       "    </tr>\n",
       "    <tr>\n",
       "      <th>11</th>\n",
       "      <td>1132018747</td>\n",
       "      <td>12/10/2021 12:42</td>\n",
       "      <td>Usability</td>\n",
       "      <td>Good for nothing completely fake app... Just s...</td>\n",
       "      <td>1.0.0</td>\n",
       "      <td>1</td>\n",
       "    </tr>\n",
       "  </tbody>\n",
       "</table>\n",
       "</div>"
      ],
      "text/plain": [
       "       user_id     Feedback_Date  Feed_Type  \\\n",
       "0   2701470357  12/10/2021 12:36  Usability   \n",
       "3   2701470357  12/10/2021 12:37  Usability   \n",
       "4   2701470357  12/10/2021 12:39  Usability   \n",
       "9   2701470357  12/10/2021 12:41  Usability   \n",
       "11  1132018747  12/10/2021 12:42  Usability   \n",
       "\n",
       "                                         Feed_Content Appication_Version  \\\n",
       "0   Things were great earlier but since the last u...              1.0.0   \n",
       "3   Gives you a few likes mabey 10 then expects yo...              1.0.0   \n",
       "4                                         It's good..              1.0.0   \n",
       "9   An ego based app full of fake profiles. The pe...              1.0.0   \n",
       "11  Good for nothing completely fake app... Just s...              1.0.0   \n",
       "\n",
       "    User_Rating  \n",
       "0             3  \n",
       "3             1  \n",
       "4             3  \n",
       "9             1  \n",
       "11            1  "
      ]
     },
     "execution_count": 9,
     "metadata": {},
     "output_type": "execute_result"
    }
   ],
   "source": [
    "usable = df['Feed_Type'] == 'Usability'\n",
    "print('shape:', df[usable].shape)\n",
    "df[usable].head()"
   ]
  },
  {
   "cell_type": "code",
   "execution_count": 10,
   "id": "851443e2",
   "metadata": {},
   "outputs": [
    {
     "data": {
      "text/plain": [
       "1    46.134159\n",
       "5    25.592672\n",
       "4    10.789332\n",
       "2     9.630927\n",
       "3     7.852909\n",
       "Name: User_Rating, dtype: float64"
      ]
     },
     "execution_count": 10,
     "metadata": {},
     "output_type": "execute_result"
    }
   ],
   "source": [
    "usability_rating = (df[usable]['User_Rating'].value_counts(normalize=True)) * 100\n",
    "usability_rating"
   ]
  },
  {
   "cell_type": "code",
   "execution_count": 71,
   "id": "07b1dc09",
   "metadata": {
    "scrolled": false
   },
   "outputs": [
    {
     "data": {
      "image/png": "[encoded data removed]",
      "text/plain": [
       "<Figure size 640x480 with 1 Axes>"
      ]
     },
     "metadata": {},
     "output_type": "display_data"
    }
   ],
   "source": [
    "usability_rating.plot(kind='bar')\n",
    "plt.xlabel('User Rating[%]')\n",
    "plt.ylabel('Frequency')\n",
    "plt.title('QuickTeller User Ratings by usability');"
   ]
  },
  {
   "cell_type": "markdown",
   "id": "1a349488",
   "metadata": {},
   "source": [
    "**USABILITY RATING**\n",
    "\n",
    "The usability entails how difficult or ease the app is to use by the user and.\n",
    "    \n",
    "    * rating 1 has the highest % with over 46% followed by.\n",
    "    * rating 5 has over 25% and.\n",
    "    * from 2-4 10% and below\n",
    "\n",
    "which means that from rating 1-2 found the app hard to use, and 4-5 found it ease to use."
   ]
  },
  {
   "cell_type": "code",
   "execution_count": 12,
   "id": "03e49f20",
   "metadata": {},
   "outputs": [
    {
     "name": "stdout",
     "output_type": "stream",
     "text": [
      "shape: (5257, 6)\n"
     ]
    },
    {
     "data": {
      "text/html": [
       "<div>\n",
       "<style scoped>\n",
       "    .dataframe tbody tr th:only-of-type {\n",
       "        vertical-align: middle;\n",
       "    }\n",
       "\n",
       "    .dataframe tbody tr th {\n",
       "        vertical-align: top;\n",
       "    }\n",
       "\n",
       "    .dataframe thead th {\n",
       "        text-align: right;\n",
       "    }\n",
       "</style>\n",
       "<table border=\"1\" class=\"dataframe\">\n",
       "  <thead>\n",
       "    <tr style=\"text-align: right;\">\n",
       "      <th></th>\n",
       "      <th>user_id</th>\n",
       "      <th>Feedback_Date</th>\n",
       "      <th>Feed_Type</th>\n",
       "      <th>Feed_Content</th>\n",
       "      <th>Appication_Version</th>\n",
       "      <th>User_Rating</th>\n",
       "    </tr>\n",
       "  </thead>\n",
       "  <tbody>\n",
       "    <tr>\n",
       "      <th>6</th>\n",
       "      <td>1132018747</td>\n",
       "      <td>12/10/2021 12:40</td>\n",
       "      <td>Performance</td>\n",
       "      <td>The problem with this app is there's no way to...</td>\n",
       "      <td>1.0.0</td>\n",
       "      <td>3</td>\n",
       "    </tr>\n",
       "    <tr>\n",
       "      <th>7</th>\n",
       "      <td>1132018747</td>\n",
       "      <td>12/10/2021 12:40</td>\n",
       "      <td>Performance</td>\n",
       "      <td>App does not work whatsoever right now</td>\n",
       "      <td>1.0.0</td>\n",
       "      <td>1</td>\n",
       "    </tr>\n",
       "    <tr>\n",
       "      <th>8</th>\n",
       "      <td>2701470357</td>\n",
       "      <td>12/10/2021 12:41</td>\n",
       "      <td>Performance</td>\n",
       "      <td>I'm in the west coast. The app shows me in Mas...</td>\n",
       "      <td>1.0.0</td>\n",
       "      <td>1</td>\n",
       "    </tr>\n",
       "    <tr>\n",
       "      <th>10</th>\n",
       "      <td>2701470357</td>\n",
       "      <td>12/10/2021 12:42</td>\n",
       "      <td>Performance</td>\n",
       "      <td>This app will lead you in the #ShraddhaWalkar ...</td>\n",
       "      <td>1.0.0</td>\n",
       "      <td>1</td>\n",
       "    </tr>\n",
       "    <tr>\n",
       "      <th>14</th>\n",
       "      <td>2671905927</td>\n",
       "      <td>12/10/2021 12:45</td>\n",
       "      <td>Performance</td>\n",
       "      <td>Wow, they throttled back the number of daily s...</td>\n",
       "      <td>1.0.0</td>\n",
       "      <td>1</td>\n",
       "    </tr>\n",
       "  </tbody>\n",
       "</table>\n",
       "</div>"
      ],
      "text/plain": [
       "       user_id     Feedback_Date    Feed_Type  \\\n",
       "6   1132018747  12/10/2021 12:40  Performance   \n",
       "7   1132018747  12/10/2021 12:40  Performance   \n",
       "8   2701470357  12/10/2021 12:41  Performance   \n",
       "10  2701470357  12/10/2021 12:42  Performance   \n",
       "14  2671905927  12/10/2021 12:45  Performance   \n",
       "\n",
       "                                         Feed_Content Appication_Version  \\\n",
       "6   The problem with this app is there's no way to...              1.0.0   \n",
       "7              App does not work whatsoever right now              1.0.0   \n",
       "8   I'm in the west coast. The app shows me in Mas...              1.0.0   \n",
       "10  This app will lead you in the #ShraddhaWalkar ...              1.0.0   \n",
       "14  Wow, they throttled back the number of daily s...              1.0.0   \n",
       "\n",
       "    User_Rating  \n",
       "6             3  \n",
       "7             1  \n",
       "8             1  \n",
       "10            1  \n",
       "14            1  "
      ]
     },
     "execution_count": 12,
     "metadata": {},
     "output_type": "execute_result"
    }
   ],
   "source": [
    "performance = df['Feed_Type'] == 'Performance'\n",
    "print('shape:', df[performance].shape)\n",
    "df[performance].head()"
   ]
  },
  {
   "cell_type": "code",
   "execution_count": 13,
   "id": "099a2df3",
   "metadata": {},
   "outputs": [
    {
     "data": {
      "text/plain": [
       "1    48.031196\n",
       "5    26.916492\n",
       "4     9.339928\n",
       "2     8.312726\n",
       "3     7.399658\n",
       "Name: User_Rating, dtype: float64"
      ]
     },
     "execution_count": 13,
     "metadata": {},
     "output_type": "execute_result"
    }
   ],
   "source": [
    "performance_rating = (df[performance]['User_Rating'].value_counts(normalize=True)) * 100\n",
    "performance_rating"
   ]
  },
  {
   "cell_type": "code",
   "execution_count": 14,
   "id": "17a802b8",
   "metadata": {},
   "outputs": [
    {
     "data": {
      "image/png": "[encoded data removed]",
      "text/plain": [
       "<Figure size 640x480 with 1 Axes>"
      ]
     },
     "metadata": {},
     "output_type": "display_data"
    }
   ],
   "source": [
    "performance_rating.plot(kind='bar')\n",
    "plt.xlabel('User Rating[%]')\n",
    "plt.ylabel('Frequency')\n",
    "plt.title('QuickTeller User Ratings by performance');"
   ]
  },
  {
   "cell_type": "markdown",
   "id": "2fea27e0",
   "metadata": {},
   "source": [
    "**PERFORMANCE RATING**\n",
    "\n",
    "The performance entails how fast or slow the speed of app is to the users and.\n",
    "    \n",
    "    * rating 1 has the highest % with over 48% followed by.\n",
    "    * rating 5 has over 26% and.\n",
    "    * from 2-4 below 10%.\n",
    "\n",
    "which means that from rating 1-2 found the app speed slow to use, and 4-5 found the app speed fast to use."
   ]
  },
  {
   "cell_type": "code",
   "execution_count": 15,
   "id": "6af13371",
   "metadata": {},
   "outputs": [
    {
     "name": "stdout",
     "output_type": "stream",
     "text": [
      "shape: (2927, 6)\n"
     ]
    },
    {
     "data": {
      "text/html": [
       "<div>\n",
       "<style scoped>\n",
       "    .dataframe tbody tr th:only-of-type {\n",
       "        vertical-align: middle;\n",
       "    }\n",
       "\n",
       "    .dataframe tbody tr th {\n",
       "        vertical-align: top;\n",
       "    }\n",
       "\n",
       "    .dataframe thead th {\n",
       "        text-align: right;\n",
       "    }\n",
       "</style>\n",
       "<table border=\"1\" class=\"dataframe\">\n",
       "  <thead>\n",
       "    <tr style=\"text-align: right;\">\n",
       "      <th></th>\n",
       "      <th>user_id</th>\n",
       "      <th>Feedback_Date</th>\n",
       "      <th>Feed_Type</th>\n",
       "      <th>Feed_Content</th>\n",
       "      <th>Appication_Version</th>\n",
       "      <th>User_Rating</th>\n",
       "    </tr>\n",
       "  </thead>\n",
       "  <tbody>\n",
       "    <tr>\n",
       "      <th>17</th>\n",
       "      <td>2671905927</td>\n",
       "      <td>12/10/2021 12:52</td>\n",
       "      <td>Feature request</td>\n",
       "      <td>Great app thanks to bumble who gives me my sou...</td>\n",
       "      <td>1.0.0</td>\n",
       "      <td>5</td>\n",
       "    </tr>\n",
       "    <tr>\n",
       "      <th>23</th>\n",
       "      <td>2806578304</td>\n",
       "      <td>12/10/2021 12:58</td>\n",
       "      <td>Feature request</td>\n",
       "      <td>I tried to used this app for almost 1week just...</td>\n",
       "      <td>1.0.0</td>\n",
       "      <td>1</td>\n",
       "    </tr>\n",
       "    <tr>\n",
       "      <th>5306</th>\n",
       "      <td>220703009</td>\n",
       "      <td>12/24/2021 5:39</td>\n",
       "      <td>Feature request</td>\n",
       "      <td>Okay still haven't mett anyone but I did hear ...</td>\n",
       "      <td>1.10.1</td>\n",
       "      <td>5</td>\n",
       "    </tr>\n",
       "    <tr>\n",
       "      <th>5307</th>\n",
       "      <td>1127595451</td>\n",
       "      <td>12/24/2021 5:39</td>\n",
       "      <td>Feature request</td>\n",
       "      <td>Great app to meet new people</td>\n",
       "      <td>1.10.1</td>\n",
       "      <td>5</td>\n",
       "    </tr>\n",
       "    <tr>\n",
       "      <th>5308</th>\n",
       "      <td>466739782</td>\n",
       "      <td>12/24/2021 5:40</td>\n",
       "      <td>Feature request</td>\n",
       "      <td>It is great. But I think there must be an opti...</td>\n",
       "      <td>1.10.1</td>\n",
       "      <td>4</td>\n",
       "    </tr>\n",
       "  </tbody>\n",
       "</table>\n",
       "</div>"
      ],
      "text/plain": [
       "         user_id     Feedback_Date        Feed_Type  \\\n",
       "17    2671905927  12/10/2021 12:52  Feature request   \n",
       "23    2806578304  12/10/2021 12:58  Feature request   \n",
       "5306   220703009   12/24/2021 5:39  Feature request   \n",
       "5307  1127595451   12/24/2021 5:39  Feature request   \n",
       "5308   466739782   12/24/2021 5:40  Feature request   \n",
       "\n",
       "                                           Feed_Content Appication_Version  \\\n",
       "17    Great app thanks to bumble who gives me my sou...              1.0.0   \n",
       "23    I tried to used this app for almost 1week just...              1.0.0   \n",
       "5306  Okay still haven't mett anyone but I did hear ...             1.10.1   \n",
       "5307                       Great app to meet new people             1.10.1   \n",
       "5308  It is great. But I think there must be an opti...             1.10.1   \n",
       "\n",
       "      User_Rating  \n",
       "17              5  \n",
       "23              1  \n",
       "5306            5  \n",
       "5307            5  \n",
       "5308            4  "
      ]
     },
     "execution_count": 15,
     "metadata": {},
     "output_type": "execute_result"
    }
   ],
   "source": [
    "feature = df['Feed_Type'] == 'Feature request'\n",
    "print('shape:', df[feature].shape)\n",
    "df[feature].head()"
   ]
  },
  {
   "cell_type": "code",
   "execution_count": 16,
   "id": "322518b9",
   "metadata": {},
   "outputs": [
    {
     "data": {
      "text/plain": [
       "1    49.880424\n",
       "5    24.598565\n",
       "4     8.951145\n",
       "2     8.370345\n",
       "3     8.199522\n",
       "Name: User_Rating, dtype: float64"
      ]
     },
     "execution_count": 16,
     "metadata": {},
     "output_type": "execute_result"
    }
   ],
   "source": [
    "feature_rating = (df[feature]['User_Rating'].value_counts(normalize=True)) * 100\n",
    "feature_rating"
   ]
  },
  {
   "cell_type": "code",
   "execution_count": 17,
   "id": "3e214004",
   "metadata": {},
   "outputs": [
    {
     "data": {
      "image/png": "[encoded data removed]",
      "text/plain": [
       "<Figure size 640x480 with 1 Axes>"
      ]
     },
     "metadata": {},
     "output_type": "display_data"
    }
   ],
   "source": [
    "feature_rating.plot(kind='bar')\n",
    "plt.xlabel('User Rating[%]')\n",
    "plt.ylabel('Frequency')\n",
    "plt.title('QuickTeller User Ratings by Feature Request');"
   ]
  },
  {
   "cell_type": "markdown",
   "id": "852a3e03",
   "metadata": {},
   "source": [
    "**FEATURE REQUEST RATING**\n",
    "\n",
    "The feature request entails that the user request for some added feature to the app.\n",
    "    \n",
    "    * rating 1 has the highest % with over 49% followed by.\n",
    "    * rating 5 has over 24% and.\n",
    "    * from 2-4 10% and below."
   ]
  },
  {
   "cell_type": "code",
   "execution_count": 18,
   "id": "e933d6e4",
   "metadata": {},
   "outputs": [
    {
     "name": "stdout",
     "output_type": "stream",
     "text": [
      "shape: (2927, 6)\n"
     ]
    },
    {
     "data": {
      "text/html": [
       "<div>\n",
       "<style scoped>\n",
       "    .dataframe tbody tr th:only-of-type {\n",
       "        vertical-align: middle;\n",
       "    }\n",
       "\n",
       "    .dataframe tbody tr th {\n",
       "        vertical-align: top;\n",
       "    }\n",
       "\n",
       "    .dataframe thead th {\n",
       "        text-align: right;\n",
       "    }\n",
       "</style>\n",
       "<table border=\"1\" class=\"dataframe\">\n",
       "  <thead>\n",
       "    <tr style=\"text-align: right;\">\n",
       "      <th></th>\n",
       "      <th>user_id</th>\n",
       "      <th>Feedback_Date</th>\n",
       "      <th>Feed_Type</th>\n",
       "      <th>Feed_Content</th>\n",
       "      <th>Appication_Version</th>\n",
       "      <th>User_Rating</th>\n",
       "    </tr>\n",
       "  </thead>\n",
       "  <tbody>\n",
       "    <tr>\n",
       "      <th>17</th>\n",
       "      <td>2671905927</td>\n",
       "      <td>12/10/2021 12:52</td>\n",
       "      <td>Feature request</td>\n",
       "      <td>Great app thanks to bumble who gives me my sou...</td>\n",
       "      <td>1.0.0</td>\n",
       "      <td>5</td>\n",
       "    </tr>\n",
       "    <tr>\n",
       "      <th>23</th>\n",
       "      <td>2806578304</td>\n",
       "      <td>12/10/2021 12:58</td>\n",
       "      <td>Feature request</td>\n",
       "      <td>I tried to used this app for almost 1week just...</td>\n",
       "      <td>1.0.0</td>\n",
       "      <td>1</td>\n",
       "    </tr>\n",
       "    <tr>\n",
       "      <th>5306</th>\n",
       "      <td>220703009</td>\n",
       "      <td>12/24/2021 5:39</td>\n",
       "      <td>Feature request</td>\n",
       "      <td>Okay still haven't mett anyone but I did hear ...</td>\n",
       "      <td>1.10.1</td>\n",
       "      <td>5</td>\n",
       "    </tr>\n",
       "    <tr>\n",
       "      <th>5307</th>\n",
       "      <td>1127595451</td>\n",
       "      <td>12/24/2021 5:39</td>\n",
       "      <td>Feature request</td>\n",
       "      <td>Great app to meet new people</td>\n",
       "      <td>1.10.1</td>\n",
       "      <td>5</td>\n",
       "    </tr>\n",
       "    <tr>\n",
       "      <th>5308</th>\n",
       "      <td>466739782</td>\n",
       "      <td>12/24/2021 5:40</td>\n",
       "      <td>Feature request</td>\n",
       "      <td>It is great. But I think there must be an opti...</td>\n",
       "      <td>1.10.1</td>\n",
       "      <td>4</td>\n",
       "    </tr>\n",
       "  </tbody>\n",
       "</table>\n",
       "</div>"
      ],
      "text/plain": [
       "         user_id     Feedback_Date        Feed_Type  \\\n",
       "17    2671905927  12/10/2021 12:52  Feature request   \n",
       "23    2806578304  12/10/2021 12:58  Feature request   \n",
       "5306   220703009   12/24/2021 5:39  Feature request   \n",
       "5307  1127595451   12/24/2021 5:39  Feature request   \n",
       "5308   466739782   12/24/2021 5:40  Feature request   \n",
       "\n",
       "                                           Feed_Content Appication_Version  \\\n",
       "17    Great app thanks to bumble who gives me my sou...              1.0.0   \n",
       "23    I tried to used this app for almost 1week just...              1.0.0   \n",
       "5306  Okay still haven't mett anyone but I did hear ...             1.10.1   \n",
       "5307                       Great app to meet new people             1.10.1   \n",
       "5308  It is great. But I think there must be an opti...             1.10.1   \n",
       "\n",
       "      User_Rating  \n",
       "17              5  \n",
       "23              1  \n",
       "5306            5  \n",
       "5307            5  \n",
       "5308            4  "
      ]
     },
     "execution_count": 18,
     "metadata": {},
     "output_type": "execute_result"
    }
   ],
   "source": [
    "bug = df['Feed_Type'] == 'Bug report'\n",
    "print('shape:', df[feature].shape)\n",
    "df[feature].head()"
   ]
  },
  {
   "cell_type": "code",
   "execution_count": 19,
   "id": "b427a02f",
   "metadata": {},
   "outputs": [
    {
     "data": {
      "text/plain": [
       "1    46.454514\n",
       "5    25.527499\n",
       "4    10.999654\n",
       "2     9.304739\n",
       "3     7.713594\n",
       "Name: User_Rating, dtype: float64"
      ]
     },
     "execution_count": 19,
     "metadata": {},
     "output_type": "execute_result"
    }
   ],
   "source": [
    "bug_rating = (df[bug]['User_Rating'].value_counts(normalize=True)) * 100\n",
    "bug_rating"
   ]
  },
  {
   "cell_type": "code",
   "execution_count": 20,
   "id": "44d945c7",
   "metadata": {},
   "outputs": [
    {
     "data": {
      "image/png": "[encoded data removed]",
      "text/plain": [
       "<Figure size 640x480 with 1 Axes>"
      ]
     },
     "metadata": {},
     "output_type": "display_data"
    }
   ],
   "source": [
    "bug_rating.plot(kind='bar')\n",
    "plt.xlabel('User Rating[%]')\n",
    "plt.ylabel('Frequency')\n",
    "plt.title('QuickTeller User Ratings by Bug Report');"
   ]
  },
  {
   "cell_type": "markdown",
   "id": "5b772882",
   "metadata": {},
   "source": [
    "**BUG REPORT RATING**\n",
    "\n",
    "The bug report entails that user encount issues or problem with the app while using it.\n",
    "    \n",
    "    * rating 1 has the highest % with over 46% followed by.\n",
    "    * rating 5 has over 25% and.\n",
    "    * from 2-4 10% and below"
   ]
  },
  {
   "cell_type": "markdown",
   "id": "ca39c49d",
   "metadata": {},
   "source": [
    "## splitting the data for model building"
   ]
  },
  {
   "cell_type": "code",
   "execution_count": 21,
   "id": "da44b04c",
   "metadata": {},
   "outputs": [
    {
     "data": {
      "text/html": [
       "<div>\n",
       "<style scoped>\n",
       "    .dataframe tbody tr th:only-of-type {\n",
       "        vertical-align: middle;\n",
       "    }\n",
       "\n",
       "    .dataframe tbody tr th {\n",
       "        vertical-align: top;\n",
       "    }\n",
       "\n",
       "    .dataframe thead th {\n",
       "        text-align: right;\n",
       "    }\n",
       "</style>\n",
       "<table border=\"1\" class=\"dataframe\">\n",
       "  <thead>\n",
       "    <tr style=\"text-align: right;\">\n",
       "      <th></th>\n",
       "      <th>Feed_Content</th>\n",
       "    </tr>\n",
       "  </thead>\n",
       "  <tbody>\n",
       "    <tr>\n",
       "      <th>0</th>\n",
       "      <td>Things were great earlier but since the last u...</td>\n",
       "    </tr>\n",
       "    <tr>\n",
       "      <th>1</th>\n",
       "      <td>Love this app but I wish we could still do adv...</td>\n",
       "    </tr>\n",
       "    <tr>\n",
       "      <th>2</th>\n",
       "      <td>Woke garbage</td>\n",
       "    </tr>\n",
       "    <tr>\n",
       "      <th>3</th>\n",
       "      <td>Gives you a few likes mabey 10 then expects yo...</td>\n",
       "    </tr>\n",
       "    <tr>\n",
       "      <th>4</th>\n",
       "      <td>It's good..</td>\n",
       "    </tr>\n",
       "  </tbody>\n",
       "</table>\n",
       "</div>"
      ],
      "text/plain": [
       "                                        Feed_Content\n",
       "0  Things were great earlier but since the last u...\n",
       "1  Love this app but I wish we could still do adv...\n",
       "2                                       Woke garbage\n",
       "3  Gives you a few likes mabey 10 then expects yo...\n",
       "4                                        It's good.."
      ]
     },
     "execution_count": 21,
     "metadata": {},
     "output_type": "execute_result"
    }
   ],
   "source": [
    "target = 'User_Rating'\n",
    "feature = ['Feed_Content']\n",
    "\n",
    "y = df[target]\n",
    "X = df[feature]\n",
    "\n",
    "X.head()"
   ]
  },
  {
   "cell_type": "code",
   "execution_count": 22,
   "id": "2510e883",
   "metadata": {
    "scrolled": true
   },
   "outputs": [
    {
     "data": {
      "text/plain": [
       "0    3\n",
       "1    5\n",
       "2    1\n",
       "3    1\n",
       "4    3\n",
       "Name: User_Rating, dtype: int64"
      ]
     },
     "execution_count": 22,
     "metadata": {},
     "output_type": "execute_result"
    }
   ],
   "source": [
    "y.head()"
   ]
  },
  {
   "cell_type": "markdown",
   "id": "89d5af4d",
   "metadata": {},
   "source": [
    "we have splitted the into our `feature matrix(X)['feed content']` and `target vector(y)[user rating]`."
   ]
  },
  {
   "cell_type": "markdown",
   "id": "2bd0cdeb",
   "metadata": {},
   "source": [
    "## Baseline"
   ]
  },
  {
   "cell_type": "code",
   "execution_count": 23,
   "id": "36069e86",
   "metadata": {
    "scrolled": true
   },
   "outputs": [
    {
     "name": "stdout",
     "output_type": "stream",
     "text": [
      "Mean Rating: 2.580842207686902\n",
      "Mae Baseline: 1.6006048934417894\n"
     ]
    }
   ],
   "source": [
    "y_mean = y.mean()\n",
    "y_pred_baseline = [y_mean] * len(y)\n",
    "mae_baseline = mean_absolute_error(y, y_pred_baseline)\n",
    "\n",
    "print('Mean Rating:', y_mean)\n",
    "print('Mae Baseline:', mae_baseline)"
   ]
  },
  {
   "cell_type": "markdown",
   "id": "193c310a",
   "metadata": {},
   "source": [
    "used **mean absorlute error** to get the averge error to beat after building and training our model"
   ]
  },
  {
   "cell_type": "code",
   "execution_count": 58,
   "id": "d162f503",
   "metadata": {
    "scrolled": true
   },
   "outputs": [
    {
     "name": "stdout",
     "output_type": "stream",
     "text": [
      "X_train: (14799, 1)\n",
      "y_train: (14799,)\n",
      "X_test: (3700, 1)\n",
      "y_test: (3700,)\n"
     ]
    }
   ],
   "source": [
    "cutoff = int(len(X) * 0.8)\n",
    "\n",
    "X_train, y_train = X.iloc[:cutoff], y.iloc[:cutoff]\n",
    "X_test, y_test = X.iloc[cutoff:], y.iloc[cutoff:]\n",
    "\n",
    "print('X_train:', X_train.shape)\n",
    "print('y_train:', y_train.shape)\n",
    "print('X_test:', X_test.shape)\n",
    "print('y_test:', y_test.shape)"
   ]
  },
  {
   "cell_type": "markdown",
   "id": "cde6d555",
   "metadata": {},
   "source": [
    "split the `X` and `y` into a `train set` and `test set`, we are going to use the `train set`  to train the model and use the `test set` to test the performance of the model and see if it beat the baseline."
   ]
  },
  {
   "cell_type": "markdown",
   "id": "2a90a9ee",
   "metadata": {},
   "source": [
    "## Iteration"
   ]
  },
  {
   "cell_type": "code",
   "execution_count": 59,
   "id": "36e73b29",
   "metadata": {},
   "outputs": [
    {
     "name": "stdout",
     "output_type": "stream",
     "text": [
      "(14799, 13317)\n"
     ]
    },
    {
     "data": {
      "text/html": [
       "<div>\n",
       "<style scoped>\n",
       "    .dataframe tbody tr th:only-of-type {\n",
       "        vertical-align: middle;\n",
       "    }\n",
       "\n",
       "    .dataframe tbody tr th {\n",
       "        vertical-align: top;\n",
       "    }\n",
       "\n",
       "    .dataframe thead th {\n",
       "        text-align: right;\n",
       "    }\n",
       "</style>\n",
       "<table border=\"1\" class=\"dataframe\">\n",
       "  <thead>\n",
       "    <tr style=\"text-align: right;\">\n",
       "      <th></th>\n",
       "      <th>Feed_Content_Things were great earlier but since the last update I'm not getting any notifications when someone is messaging me. Please try to tix it asap.</th>\n",
       "      <th>Feed_Content_Love this app but I wish we could still do advanced fliters for free and I wouldn't mind paying but everything's to expensive right now. Please put at least advanced filters back on for free. I'm seriously looking for a potential relationship.</th>\n",
       "      <th>Feed_Content_Woke garbage</th>\n",
       "      <th>Feed_Content_Gives you a few likes mabey 10 then expects you to buy more I've been out of swipes for 42 hours at a time this is a scam for money on top of obvious fake accounts what a joke</th>\n",
       "      <th>Feed_Content_It's good..</th>\n",
       "      <th>Feed_Content_Im not getting how to pay for subscribe trying but unable</th>\n",
       "      <th>Feed_Content_The problem with this app is there's no way to message someone you like</th>\n",
       "      <th>Feed_Content_App does not work whatsoever right now</th>\n",
       "      <th>Feed_Content_I'm in the west coast. The app shows me in Massachusetts and I have to pay money to change my location. Emails to devs doesn't do anything. What a terrible experience and money gobbling tactics.</th>\n",
       "      <th>Feed_Content_An ego based app full of fake profiles. The perfect platform for females to match, get their validation and not speak. Way too many bots too. Dating apps aren't generally great, but this one took the 😝</th>\n",
       "      <th>...</th>\n",
       "      <th>Feed_Content_I've had a lot of bot matches. If not none at all</th>\n",
       "      <th>Feed_Content_I was reccomended this app because it had lgbtqia+ options. It started out great. Until i got likes. You cant even see your 'beeline' unless you purchase a membership. The only free thing you get is the ability to swipe left or right. Created with love? What love besides your apparent love for money? This app is useless unless youre prepared to spend money on it right away and there is nothing more infuriating when dating apps require a membership right away, just to see whos interested or talk.</th>\n",
       "      <th>Feed_Content_Terrible app, makes you pay for the undo button. I've missed so many opportunities from accidently swiping right.</th>\n",
       "      <th>Feed_Content_Reckons I'm under age when I'm 19 so cant even get past the mobile number or Facebook stage 🤦🤙</th>\n",
       "      <th>Feed_Content_Limited likes, how can I find a match if it has limited likes. I can't even get a like so rare.</th>\n",
       "      <th>Feed_Content_You have to pay to see the people who liked you even though you liked them. It should be a match????</th>\n",
       "      <th>Feed_Content_ONLY UGLY PEOPLE COMPLAINS</th>\n",
       "      <th>Feed_Content_I start use this app recently , but I think it's good .</th>\n",
       "      <th>Feed_Content_I was charged 2.99, 14 times! Without my authorization, I never even put my credit card in your app, yet I've been charged these, I don't even know what they are for? I tried Contacting customer service, but cannot find any email anywhere!.</th>\n",
       "      <th>Feed_Content_nan</th>\n",
       "    </tr>\n",
       "  </thead>\n",
       "  <tbody>\n",
       "    <tr>\n",
       "      <th>0</th>\n",
       "      <td>1</td>\n",
       "      <td>0</td>\n",
       "      <td>0</td>\n",
       "      <td>0</td>\n",
       "      <td>0</td>\n",
       "      <td>0</td>\n",
       "      <td>0</td>\n",
       "      <td>0</td>\n",
       "      <td>0</td>\n",
       "      <td>0</td>\n",
       "      <td>...</td>\n",
       "      <td>0</td>\n",
       "      <td>0</td>\n",
       "      <td>0</td>\n",
       "      <td>0</td>\n",
       "      <td>0</td>\n",
       "      <td>0</td>\n",
       "      <td>0</td>\n",
       "      <td>0</td>\n",
       "      <td>0</td>\n",
       "      <td>0</td>\n",
       "    </tr>\n",
       "    <tr>\n",
       "      <th>1</th>\n",
       "      <td>0</td>\n",
       "      <td>1</td>\n",
       "      <td>0</td>\n",
       "      <td>0</td>\n",
       "      <td>0</td>\n",
       "      <td>0</td>\n",
       "      <td>0</td>\n",
       "      <td>0</td>\n",
       "      <td>0</td>\n",
       "      <td>0</td>\n",
       "      <td>...</td>\n",
       "      <td>0</td>\n",
       "      <td>0</td>\n",
       "      <td>0</td>\n",
       "      <td>0</td>\n",
       "      <td>0</td>\n",
       "      <td>0</td>\n",
       "      <td>0</td>\n",
       "      <td>0</td>\n",
       "      <td>0</td>\n",
       "      <td>0</td>\n",
       "    </tr>\n",
       "    <tr>\n",
       "      <th>2</th>\n",
       "      <td>0</td>\n",
       "      <td>0</td>\n",
       "      <td>1</td>\n",
       "      <td>0</td>\n",
       "      <td>0</td>\n",
       "      <td>0</td>\n",
       "      <td>0</td>\n",
       "      <td>0</td>\n",
       "      <td>0</td>\n",
       "      <td>0</td>\n",
       "      <td>...</td>\n",
       "      <td>0</td>\n",
       "      <td>0</td>\n",
       "      <td>0</td>\n",
       "      <td>0</td>\n",
       "      <td>0</td>\n",
       "      <td>0</td>\n",
       "      <td>0</td>\n",
       "      <td>0</td>\n",
       "      <td>0</td>\n",
       "      <td>0</td>\n",
       "    </tr>\n",
       "    <tr>\n",
       "      <th>3</th>\n",
       "      <td>0</td>\n",
       "      <td>0</td>\n",
       "      <td>0</td>\n",
       "      <td>1</td>\n",
       "      <td>0</td>\n",
       "      <td>0</td>\n",
       "      <td>0</td>\n",
       "      <td>0</td>\n",
       "      <td>0</td>\n",
       "      <td>0</td>\n",
       "      <td>...</td>\n",
       "      <td>0</td>\n",
       "      <td>0</td>\n",
       "      <td>0</td>\n",
       "      <td>0</td>\n",
       "      <td>0</td>\n",
       "      <td>0</td>\n",
       "      <td>0</td>\n",
       "      <td>0</td>\n",
       "      <td>0</td>\n",
       "      <td>0</td>\n",
       "    </tr>\n",
       "    <tr>\n",
       "      <th>4</th>\n",
       "      <td>0</td>\n",
       "      <td>0</td>\n",
       "      <td>0</td>\n",
       "      <td>0</td>\n",
       "      <td>1</td>\n",
       "      <td>0</td>\n",
       "      <td>0</td>\n",
       "      <td>0</td>\n",
       "      <td>0</td>\n",
       "      <td>0</td>\n",
       "      <td>...</td>\n",
       "      <td>0</td>\n",
       "      <td>0</td>\n",
       "      <td>0</td>\n",
       "      <td>0</td>\n",
       "      <td>0</td>\n",
       "      <td>0</td>\n",
       "      <td>0</td>\n",
       "      <td>0</td>\n",
       "      <td>0</td>\n",
       "      <td>0</td>\n",
       "    </tr>\n",
       "  </tbody>\n",
       "</table>\n",
       "<p>5 rows × 13317 columns</p>\n",
       "</div>"
      ],
      "text/plain": [
       "   Feed_Content_Things were great earlier but since the last update I'm not getting any notifications when someone is messaging me. Please try to tix it asap.  \\\n",
       "0                                                  1                                                                                                             \n",
       "1                                                  0                                                                                                             \n",
       "2                                                  0                                                                                                             \n",
       "3                                                  0                                                                                                             \n",
       "4                                                  0                                                                                                             \n",
       "\n",
       "   Feed_Content_Love this app but I wish we could still do advanced fliters for free and I wouldn't mind paying but everything's to expensive right now. Please put at least advanced filters back on for free. I'm seriously looking for a potential relationship.  \\\n",
       "0                                                  0                                                                                                                                                                                                                  \n",
       "1                                                  1                                                                                                                                                                                                                  \n",
       "2                                                  0                                                                                                                                                                                                                  \n",
       "3                                                  0                                                                                                                                                                                                                  \n",
       "4                                                  0                                                                                                                                                                                                                  \n",
       "\n",
       "   Feed_Content_Woke garbage  \\\n",
       "0                          0   \n",
       "1                          0   \n",
       "2                          1   \n",
       "3                          0   \n",
       "4                          0   \n",
       "\n",
       "   Feed_Content_Gives you a few likes mabey 10 then expects you to buy more I've been out of swipes for 42 hours at a time this is a scam for money on top of obvious fake accounts what a joke  \\\n",
       "0                                                  0                                                                                                                                              \n",
       "1                                                  0                                                                                                                                              \n",
       "2                                                  0                                                                                                                                              \n",
       "3                                                  1                                                                                                                                              \n",
       "4                                                  0                                                                                                                                              \n",
       "\n",
       "   Feed_Content_It's good..  \\\n",
       "0                         0   \n",
       "1                         0   \n",
       "2                         0   \n",
       "3                         0   \n",
       "4                         1   \n",
       "\n",
       "   Feed_Content_Im not getting how to pay for subscribe trying but unable  \\\n",
       "0                                                  0                        \n",
       "1                                                  0                        \n",
       "2                                                  0                        \n",
       "3                                                  0                        \n",
       "4                                                  0                        \n",
       "\n",
       "   Feed_Content_The problem with this app is there's no way to message someone you like  \\\n",
       "0                                                  0                                      \n",
       "1                                                  0                                      \n",
       "2                                                  0                                      \n",
       "3                                                  0                                      \n",
       "4                                                  0                                      \n",
       "\n",
       "   Feed_Content_App does not work whatsoever right now  \\\n",
       "0                                                  0     \n",
       "1                                                  0     \n",
       "2                                                  0     \n",
       "3                                                  0     \n",
       "4                                                  0     \n",
       "\n",
       "   Feed_Content_I'm in the west coast. The app shows me in Massachusetts and I have to pay money to change my location. Emails to devs doesn't do anything. What a terrible experience and money gobbling tactics.  \\\n",
       "0                                                  0                                                                                                                                                                 \n",
       "1                                                  0                                                                                                                                                                 \n",
       "2                                                  0                                                                                                                                                                 \n",
       "3                                                  0                                                                                                                                                                 \n",
       "4                                                  0                                                                                                                                                                 \n",
       "\n",
       "   Feed_Content_An ego based app full of fake profiles. The perfect platform for females to match, get their validation and not speak. Way too many bots too. Dating apps aren't generally great, but this one took the 😝  \\\n",
       "0                                                  0                                                                                                                                                                        \n",
       "1                                                  0                                                                                                                                                                        \n",
       "2                                                  0                                                                                                                                                                        \n",
       "3                                                  0                                                                                                                                                                        \n",
       "4                                                  0                                                                                                                                                                        \n",
       "\n",
       "   ...  Feed_Content_I've had a lot of bot matches. If not none at all  \\\n",
       "0  ...                                                  0                \n",
       "1  ...                                                  0                \n",
       "2  ...                                                  0                \n",
       "3  ...                                                  0                \n",
       "4  ...                                                  0                \n",
       "\n",
       "   Feed_Content_I was reccomended this app because it had lgbtqia+ options. It started out great. Until i got likes. You cant even see your 'beeline' unless you purchase a membership. The only free thing you get is the ability to swipe left or right. Created with love? What love besides your apparent love for money? This app is useless unless youre prepared to spend money on it right away and there is nothing more infuriating when dating apps require a membership right away, just to see whos interested or talk.  \\\n",
       "0                                                  0                                                                                                                                                                                                                                                                                                                                                                                                                                                                                   \n",
       "1                                                  0                                                                                                                                                                                                                                                                                                                                                                                                                                                                                   \n",
       "2                                                  0                                                                                                                                                                                                                                                                                                                                                                                                                                                                                   \n",
       "3                                                  0                                                                                                                                                                                                                                                                                                                                                                                                                                                                                   \n",
       "4                                                  0                                                                                                                                                                                                                                                                                                                                                                                                                                                                                   \n",
       "\n",
       "   Feed_Content_Terrible app, makes you pay for the undo button. I've missed so many opportunities from accidently swiping right.  \\\n",
       "0                                                  0                                                                                \n",
       "1                                                  0                                                                                \n",
       "2                                                  0                                                                                \n",
       "3                                                  0                                                                                \n",
       "4                                                  0                                                                                \n",
       "\n",
       "   Feed_Content_Reckons I'm under age when I'm 19 so cant even get past the mobile number or Facebook stage 🤦🤙  \\\n",
       "0                                                  0                                                             \n",
       "1                                                  0                                                             \n",
       "2                                                  0                                                             \n",
       "3                                                  0                                                             \n",
       "4                                                  0                                                             \n",
       "\n",
       "   Feed_Content_Limited likes, how can I find a match if it has limited likes. I can't even get a like so rare.  \\\n",
       "0                                                  0                                                              \n",
       "1                                                  0                                                              \n",
       "2                                                  0                                                              \n",
       "3                                                  0                                                              \n",
       "4                                                  0                                                              \n",
       "\n",
       "   Feed_Content_You have to pay to see the people who liked you even though you liked them. It should be a match????  \\\n",
       "0                                                  0                                                                   \n",
       "1                                                  0                                                                   \n",
       "2                                                  0                                                                   \n",
       "3                                                  0                                                                   \n",
       "4                                                  0                                                                   \n",
       "\n",
       "   Feed_Content_ONLY UGLY PEOPLE COMPLAINS  \\\n",
       "0                                        0   \n",
       "1                                        0   \n",
       "2                                        0   \n",
       "3                                        0   \n",
       "4                                        0   \n",
       "\n",
       "   Feed_Content_I start use this app recently , but I think it's good .  \\\n",
       "0                                                  0                      \n",
       "1                                                  0                      \n",
       "2                                                  0                      \n",
       "3                                                  0                      \n",
       "4                                                  0                      \n",
       "\n",
       "   Feed_Content_I was charged 2.99, 14 times! Without my authorization, I never even put my credit card in your app, yet I've been charged these, I don't even know what they are for? I tried Contacting customer service, but cannot find any email anywhere!.  \\\n",
       "0                                                  0                                                                                                                                                                                                               \n",
       "1                                                  0                                                                                                                                                                                                               \n",
       "2                                                  0                                                                                                                                                                                                               \n",
       "3                                                  0                                                                                                                                                                                                               \n",
       "4                                                  0                                                                                                                                                                                                               \n",
       "\n",
       "   Feed_Content_nan  \n",
       "0                 0  \n",
       "1                 0  \n",
       "2                 0  \n",
       "3                 0  \n",
       "4                 0  \n",
       "\n",
       "[5 rows x 13317 columns]"
      ]
     },
     "execution_count": 59,
     "metadata": {},
     "output_type": "execute_result"
    }
   ],
   "source": [
    "ohe = OneHotEncoder(use_cat_names=True)\n",
    "\n",
    "ohe.fit(X_train)\n",
    "\n",
    "XT_train = ohe.transform(X_train)\n",
    "print(XT_train.shape)\n",
    "XT_train.head()"
   ]
  },
  {
   "cell_type": "markdown",
   "id": "39a525ba",
   "metadata": {},
   "source": [
    "Tranforming the X_train from string value to an integer"
   ]
  },
  {
   "cell_type": "code",
   "execution_count": 60,
   "id": "c680eadb",
   "metadata": {},
   "outputs": [
    {
     "data": {
      "text/plain": [
       "Pipeline(steps=[('onehotencoder',\n",
       "                 OneHotEncoder(cols=['Feed_Content'], use_cat_names=True)),\n",
       "                ('ridge', Ridge())])"
      ]
     },
     "execution_count": 60,
     "metadata": {},
     "output_type": "execute_result"
    }
   ],
   "source": [
    "model = make_pipeline(\n",
    "    OneHotEncoder(use_cat_names=True),\n",
    "    Ridge()\n",
    ").fit(X_train, y_train)\n",
    "model"
   ]
  },
  {
   "cell_type": "markdown",
   "id": "0c09e079",
   "metadata": {},
   "source": [
    "## Evaluation"
   ]
  },
  {
   "cell_type": "code",
   "execution_count": 61,
   "id": "696440a9",
   "metadata": {
    "scrolled": true
   },
   "outputs": [
    {
     "name": "stdout",
     "output_type": "stream",
     "text": [
      "MAE training: 0.72\n",
      "MAE test: 1.39\n"
     ]
    }
   ],
   "source": [
    "mae_train= mean_absolute_error(y_train, model.predict(X_train))\n",
    "mae_test = mean_absolute_error(y_test, model.predict(X_test))\n",
    "\n",
    "print(\"MAE training:\", mae_train.round(2))\n",
    "print(\"MAE test:\", mae_test.round(2))"
   ]
  },
  {
   "cell_type": "markdown",
   "id": "5fa4b6f9",
   "metadata": {},
   "source": [
    "Both the **train(0.72)** and **test(1.39)** set beat the **baseline(1.60)**."
   ]
  },
  {
   "cell_type": "markdown",
   "id": "330973b2",
   "metadata": {},
   "source": [
    "## communication"
   ]
  },
  {
   "cell_type": "code",
   "execution_count": 73,
   "id": "f1cf1a2e",
   "metadata": {},
   "outputs": [
    {
     "name": "stdout",
     "output_type": "stream",
     "text": [
      "intercept: 2.37\n",
      "coefficient: [ 0.31  1.31 -0.69 -0.69  0.31]\n"
     ]
    }
   ],
   "source": [
    "intercept = model.named_steps[\"ridge\"].intercept_\n",
    "coefficient = model.named_steps[\"ridge\"].coef_\n",
    "print(\"intercept:\", intercept.round(2))\n",
    "print(\"coefficient:\", coefficient[:5].round(2))"
   ]
  },
  {
   "cell_type": "markdown",
   "id": "ff13ccc8",
   "metadata": {},
   "source": [
    "Extracting the coefficient from the user_rating"
   ]
  },
  {
   "cell_type": "code",
   "execution_count": 74,
   "id": "dc54d68a",
   "metadata": {},
   "outputs": [],
   "source": [
    "feature_names = model.named_steps[\"onehotencoder\"].get_feature_names()"
   ]
  },
  {
   "cell_type": "markdown",
   "id": "9872813d",
   "metadata": {},
   "source": [
    "Extracting the feature names from the feedback type."
   ]
  },
  {
   "cell_type": "code",
   "execution_count": 64,
   "id": "2a52aae2",
   "metadata": {},
   "outputs": [],
   "source": [
    "feat_imp = pd.Series(coefficient, feature_names)"
   ]
  },
  {
   "cell_type": "markdown",
   "id": "b0666327",
   "metadata": {},
   "source": [
    "Concatinating the coef and feat names using pandas series"
   ]
  },
  {
   "cell_type": "markdown",
   "id": "ed537341",
   "metadata": {},
   "source": [
    "## Visualizing the feature name and the absolute value from the coefficient"
   ]
  },
  {
   "cell_type": "code",
   "execution_count": 76,
   "id": "c709a654",
   "metadata": {
    "scrolled": false
   },
   "outputs": [
    {
     "data": {
      "image/png": "[encoded data removed]",
      "text/plain": [
       "<Figure size 640x480 with 1 Axes>"
      ]
     },
     "metadata": {},
     "output_type": "display_data"
    }
   ],
   "source": [
    "feat_imp.sort_values(key=abs).tail(20).plot(kind=\"barh\");"
   ]
  },
  {
   "cell_type": "code",
   "execution_count": null,
   "id": "89f20ef3",
   "metadata": {},
   "outputs": [],
   "source": []
  }
 ],
 "metadata": {
  "kernelspec": {
   "display_name": "Python 3 (ipykernel)",
   "language": "python",
   "name": "python3"
  },
  "language_info": {
   "codemirror_mode": {
    "name": "ipython",
    "version": 3
   },
   "file_extension": ".py",
   "mimetype": "text/x-python",
   "name": "python",
   "nbconvert_exporter": "python",
   "pygments_lexer": "ipython3",
   "version": "3.9.13"
  }
 },
 "nbformat": 4,
 "nbformat_minor": 5
}
